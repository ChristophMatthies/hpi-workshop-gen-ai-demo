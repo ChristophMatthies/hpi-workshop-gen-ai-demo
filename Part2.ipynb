{
 "cells": [
  {
   "cell_type": "markdown",
   "id": "5c002d80-ab65-414b-bdaf-f77c10a6073a",
   "metadata": {},
   "source": [
    "## Coding challenge Part II (up to 60 min) - Advanced LLM Orchestration Features"
   ]
  },
  {
   "cell_type": "markdown",
   "id": "065093fd-6eee-40f4-bb3b-d2d5c5535c5c",
   "metadata": {},
   "source": [
    "After getting to know the basics of the LLM Orchestration Service, this coding challenge focuses on interacting on more advanced features.\n",
    "Again, let's assume the role of a Business AI developer, tasked with integrating AI features into business software products.\n",
    "\n",
    "Here, we are working on an HR system used for screening and summarizing CVs of job applicants, so that recruiters get an initial overview of candidates.\n",
    "\n",
    "As we are dealing with personal information as part of CVs, we must ensure that this personal information is not transmitted to the third-party LLM providers that host LLM models (e.g. Azure, Google Cloud, AWS)"
   ]
  },
  {
   "cell_type": "markdown",
   "id": "4d925862-6e5d-40d7-aa24-7c00e98d4beb",
   "metadata": {},
   "source": [
    "### Scenario\n",
    "\n",
    "You are to develop a LLM-based summarization service that allows a business user of a HR system input a `.txt` document and outputs a summary of a certain length.\n"
   ]
  },
  {
   "cell_type": "markdown",
   "id": "c6597b91-6aee-497c-8e74-c0cbd510aa5b",
   "metadata": {},
   "source": [
    "### Setup the LLM Orchestration Service"
   ]
  },
  {
   "cell_type": "code",
   "execution_count": null,
   "id": "a6dddb4e-2bf0-41fd-9a10-279eeaa4a4e9",
   "metadata": {},
   "outputs": [],
   "source": [
    "# Set up the required authentication, see Part 1\n",
    "%pip install python-dotenv\n",
    "from dotenv import load_dotenv\n",
    "# loading variables from file\n",
    "load_dotenv(\"tmp/dummy.env\")"
   ]
  },
  {
   "cell_type": "code",
   "execution_count": null,
   "id": "ec95811d-3ad6-4783-ab9c-86648f40975e",
   "metadata": {},
   "outputs": [],
   "source": [
    "from gen_ai_hub.orchestration.models.message import SystemMessage, UserMessage\n",
    "from gen_ai_hub.orchestration.models.template import Template, TemplateValue\n",
    "from gen_ai_hub.orchestration.models.llm import LLM\n",
    "from gen_ai_hub.orchestration.models.config import OrchestrationConfig\n",
    "\n",
    "cv_template = Template(\n",
    "    messages=[\n",
    "        SystemMessage(\"You are a helpful AI assistant that creates summaries from documents.\"),\n",
    "        UserMessage(\n",
    "            \"Summarize the following {{?document_type}} in {{?length}} sentences {{?additional_instructions}}: {{?document}}\"\n",
    "        ),\n",
    "    ],\n",
    "    defaults=[\n",
    "        TemplateValue(name=\"document_type\", value=\"document\"),\n",
    "        TemplateValue(name=\"length\", value=\"10\"),\n",
    "        TemplateValue(name=\"additional_instructions\", value=\"\"),\n",
    "    ],\n",
    ")\n",
    "\n",
    "cv_config = OrchestrationConfig(\n",
    "    template=cv_template,\n",
    "    llm=LLM(name=\"gpt-4o\", version=\"latest\", parameters={\"max_tokens\": 256, \"temperature\": 0.1}),\n",
    ")"
   ]
  },
  {
   "cell_type": "markdown",
   "id": "9b039a7b-9b6f-4de3-b912-4c2bad651552",
   "metadata": {},
   "source": [
    "### Run the Summarization Request\n",
    "\n",
    "Make a request to the LLM, including the CV data, notice the `template_values` and how we can use the `additional_instructions` field to modify the prompt."
   ]
  },
  {
   "cell_type": "code",
   "execution_count": null,
   "id": "06991696-b406-4db6-a891-a1c9ef74d2f5",
   "metadata": {},
   "outputs": [],
   "source": [
    "from gen_ai_hub.orchestration.utils import load_text_file\n",
    "from gen_ai_hub.orchestration.service import OrchestrationService\n",
    "\n",
    "doc_as_string = load_text_file(\"data/cv.txt\")\n",
    "\n",
    "api_url = \"https://api.ai.internalprod.eu-central-1.aws.ml.hana.ondemand.com/v2/inference/deployments/d8070b9586567b37\"\n",
    "orchestration_service = OrchestrationService(api_url=api_url)\n",
    "\n",
    "result = orchestration_service.run(\n",
    "    config=cv_config,\n",
    "    template_values=[\n",
    "        TemplateValue(name=\"document\", value=doc_as_string),\n",
    "        TemplateValue(name=\"document_type\", value=\"CV\"),\n",
    "        TemplateValue(name=\"length\", value=\"4\"),\n",
    "        TemplateValue(name=\"additional_instructions\", value=\"and structure using markdown headings (Candidate Information, Skills, Education). Use an emoji for each heading.\"),\n",
    "    ]\n",
    ")\n",
    "print(result.orchestration_result.choices[0].message.content)"
   ]
  },
  {
   "cell_type": "markdown",
   "id": "ec2e40c1-2457-4360-a50a-8353077d648b",
   "metadata": {},
   "source": [
    "### Customize Summarization Functionality to a Class\n",
    "\n",
    "For code structuring and ease of reuse, we'll create a class `CVSummarizer`."
   ]
  },
  {
   "cell_type": "code",
   "execution_count": null,
   "id": "0afe67dd-62ab-446f-bf7c-8dac10082868",
   "metadata": {},
   "outputs": [],
   "source": [
    "class CVSummarizer:\n",
    "    def __init__(self, config):\n",
    "        api_url = \"https://api.ai.internalprod.eu-central-1.aws.ml.hana.ondemand.com/v2/inference/deployments/d8070b9586567b37\"\n",
    "        self.service = OrchestrationService(api_url=api_url)\n",
    "        self.config = config\n",
    "        self.cv = None\n",
    "\n",
    "    def load_cv_by_file_path(self, file_path):\n",
    "        self.cv = load_text_file(file_path)\n",
    "    \n",
    "    def summarize(self):\n",
    "        if not self.cv:\n",
    "            raise \"CV not set!\"\n",
    "        response = self.service.run(\n",
    "            config=self.config,\n",
    "            template_values=[\n",
    "                TemplateValue(name=\"document\", value=self.cv),\n",
    "                TemplateValue(name=\"length\", value=\"1\"),\n",
    "            ],\n",
    "        )\n",
    "        return response.orchestration_result.choices[0].message.content\n",
    "\n",
    "\n",
    "summarizer = CVSummarizer(config=cv_config)\n",
    "summarizer.load_cv_by_file_path(\"data/cv.txt\")\n",
    "cv_summary = summarizer.summarize()\n",
    "print(cv_summary)\n",
    "\n",
    "# TODO make the output of the summarized CV more structured, e.g. as in the example above"
   ]
  },
  {
   "cell_type": "markdown",
   "id": "7c18eab5-e027-4773-88be-3cfb6c9f1a80",
   "metadata": {},
   "source": [
    "### Try Out Data Masking\n",
    "\n",
    "Data Masking can be configured using content categories (called `ProfileEntity`).\n",
    "If `ProfileEntity.EMAIL` is configured for the `SAPDataPrivacyIntegration` backend, all detected emails in the input to the LLM will be replaced with the string \"MASKED_EMAIL\". The LLM provider will not know abpout the applicant's email address."
   ]
  },
  {
   "cell_type": "code",
   "execution_count": null,
   "id": "5ce7003e-a7c1-4b61-8f47-192354a32bee",
   "metadata": {},
   "outputs": [],
   "source": [
    "from gen_ai_hub.orchestration.models.data_masking import DataMasking\n",
    "from gen_ai_hub.orchestration.models.sap_data_privacy_integration import SAPDataPrivacyIntegration, MaskingMethod, \\\n",
    "    ProfileEntity\n",
    "\n",
    "data_masking = DataMasking(\n",
    "    providers=[\n",
    "        SAPDataPrivacyIntegration(\n",
    "            method=MaskingMethod.ANONYMIZATION, # or MaskingMethod.PSEUDONYMIZATION\n",
    "            entities=[\n",
    "                ProfileEntity.EMAIL,\n",
    "                ProfileEntity.PHONE,\n",
    "                ProfileEntity.PERSON,\n",
    "                ProfileEntity.LOCATION,\n",
    "            ]\n",
    "        )\n",
    "    ]\n",
    ")\n",
    "\n",
    "config_w_masking = OrchestrationConfig(\n",
    "    template=cv_template,\n",
    "    llm=LLM(name=\"gpt-4o\", version=\"latest\", parameters={\"max_tokens\": 256, \"temperature\": 0.1}),\n",
    "    data_masking=data_masking\n",
    ")\n",
    "\n",
    "result = orchestration_service.run(\n",
    "    config=config_w_masking,\n",
    "    template_values=[\n",
    "        TemplateValue(name=\"document\", value=doc_as_string),\n",
    "        TemplateValue(name=\"length\", value=\"10\"),\n",
    "        TemplateValue(name=\"document_type\", value=\"CV\"),\n",
    "        TemplateValue(name=\"additional_instructions\", value=\"and use markdown. Include contact details\"),\n",
    "    ]\n",
    ")\n",
    "\n",
    "print(result.orchestration_result.choices[0].message.content)"
   ]
  },
  {
   "cell_type": "markdown",
   "id": "7e86a5a5-1315-4cd5-a718-d69aecb40653",
   "metadata": {},
   "source": [
    "### Adapt the CVSummarizer to use Data Masking\n",
    "\n",
    "Make the CVSummarizerPrivacyConserving Class use the Data Masking Config:"
   ]
  },
  {
   "cell_type": "code",
   "execution_count": null,
   "id": "86da7002-4422-4db3-8edc-11c5482a0e5b",
   "metadata": {},
   "outputs": [],
   "source": [
    "class CVSummarizerPrivacyConserving:\n",
    "    def __init__(self, config):\n",
    "        api_url = \"https://api.ai.internalprod.eu-central-1.aws.ml.hana.ondemand.com/v2/inference/deployments/d8070b9586567b37\"\n",
    "        self.service = OrchestrationService(api_url=api_url)\n",
    "        self.config = config\n",
    "        self.cv = None\n",
    "\n",
    "    def load_cv_by_file_path(self, file_path):\n",
    "        self.cv = load_text_file(file_path)\n",
    "    \n",
    "    def summarize_with_masking(self):\n",
    "        pass # TODO\n",
    "\n",
    "summarizer = CVSummarizerPrivacyConserving(config=config_w_masking)\n",
    "summarizer.load_cv_by_file_path(\"data/cv.txt\")\n",
    "cv_summary = summarizer.summarize_with_masking()\n",
    "print(cv_summary)"
   ]
  },
  {
   "cell_type": "markdown",
   "id": "2891bcdc-8514-48fa-9538-9a7d0a41290c",
   "metadata": {},
   "source": [
    "### Explore Data Masking (Limitations)\n",
    "\n",
    "The Data Masking capabilities of LLM Orchestration service are under active development.\n",
    "When using the service, you should be aware of the limitations of the Data Masking feature.\n",
    "\n",
    "Get the types of data that can be masked:"
   ]
  },
  {
   "cell_type": "code",
   "execution_count": null,
   "id": "7de3c1c8-f657-4fcb-b52a-a3db660f2922",
   "metadata": {},
   "outputs": [],
   "source": [
    "# There are additional entities to mask\n",
    "list(ProfileEntity)"
   ]
  },
  {
   "cell_type": "markdown",
   "id": "8e4cb09e-84a6-4af4-b1ee-b8230dcc0e57",
   "metadata": {},
   "source": [
    "#### Search for Edge-Cases\n",
    "\n",
    "We need to test the Data Masking feature with different types of CVs that contain various types of personally identifiable information.\n",
    "We're looking for information in the CVs that was not successfully masked.\n",
    "\n",
    "**Copy the existing CV and try adapting the information. See how you can provoke masking failures!**\n",
    "\n",
    "**Please note the cases you find, so that we can include them in our test suites!**\n"
   ]
  },
  {
   "cell_type": "code",
   "execution_count": null,
   "id": "76ed2541-1ba7-4513-9184-c807311b4982",
   "metadata": {},
   "outputs": [],
   "source": [
    "more_data_masking = DataMasking(\n",
    "    providers=[\n",
    "        SAPDataPrivacyIntegration(\n",
    "            method=MaskingMethod.ANONYMIZATION, # or MaskingMethod.PSEUDONYMIZATION\n",
    "            entities=[\n",
    "                ProfileEntity.PERSON,\n",
    "                # TODO additional entities here\n",
    "            ]\n",
    "        )\n",
    "    ]\n",
    ")\n",
    "\n",
    "config_w_more_masking = OrchestrationConfig(\n",
    "    template=cv_template,\n",
    "    llm=LLM(name=\"gpt-4o\", version=\"latest\", parameters={\"max_tokens\": 256, \"temperature\": 0.1}),\n",
    "    data_masking=more_data_masking\n",
    ")\n",
    "\n",
    "summarizer = CVSummarizerPrivacyConserving(config=config_w_more_masking)\n",
    "summarizer.load_cv_by_file_path(\"data/different_cv.txt\") # TODO adapt to other CVs or create your own\n",
    "cv_summary = summarizer.summarize_with_masking()\n",
    "print(cv_summary)"
   ]
  },
  {
   "cell_type": "code",
   "execution_count": null,
   "id": "7c199ca6-eeda-4848-91fb-78575b69d549",
   "metadata": {},
   "outputs": [],
   "source": [
    "Issues found:\n",
    "\n",
    "* TODO"
   ]
  },
  {
   "cell_type": "markdown",
   "id": "334e135c-7233-456b-9e8e-c99b36e221ea",
   "metadata": {},
   "source": [
    "### Stretch Goal: Add Content Filtering to the CV Summarizer\n",
    "The CV Summarizer should notify us if a CV contains inappropriate language so that we may review the application. We can use the input filtering functionality of the LLM orchestration service for this purpose. It was introduced at the end of Part 1."
   ]
  },
  {
   "cell_type": "code",
   "execution_count": null,
   "id": "6e2f2d86-0587-4eeb-bfae-69715a37cc55",
   "metadata": {},
   "outputs": [],
   "source": [
    "from gen_ai_hub.orchestration.models.azure_content_filter import AzureContentFilter, AzureThreshold\n",
    "\n",
    "input_filter = AzureContentFilter(hate=AzureThreshold.ALLOW_SAFE,\n",
    "                                  violence=AzureThreshold.ALLOW_SAFE,\n",
    "                                  self_harm=AzureThreshold.ALLOW_SAFE,\n",
    "                                  sexual=AzureThreshold.ALLOW_SAFE)\n",
    "\n",
    "config_w_masking_filtering = OrchestrationConfig() # TODO add relevant parameters\n",
    "\n",
    "# TODO Call CVSummarizerPrivacyConserving with the `config_w_masking_filtering` config and the CV in data/different_cv.txt\n",
    "# TODO Deal with the `OrchestrationError` that is returned when the filter detects something"
   ]
  }
 ],
 "metadata": {
  "kernelspec": {
   "display_name": "venv",
   "language": "python",
   "name": "venv"
  },
  "language_info": {
   "codemirror_mode": {
    "name": "ipython",
    "version": 3
   },
   "file_extension": ".py",
   "mimetype": "text/x-python",
   "name": "python",
   "nbconvert_exporter": "python",
   "pygments_lexer": "ipython3",
   "version": "3.13.0"
  }
 },
 "nbformat": 4,
 "nbformat_minor": 5
}
